{
 "cells": [
  {
   "cell_type": "code",
   "execution_count": 37,
   "metadata": {
    "collapsed": true
   },
   "outputs": [],
   "source": [
    "import pandas as pd"
   ]
  },
  {
   "cell_type": "code",
   "execution_count": 38,
   "metadata": {
    "collapsed": true
   },
   "outputs": [],
   "source": [
    "credit=pd.read_csv('use.csv')"
   ]
  },
  {
   "cell_type": "code",
   "execution_count": 39,
   "metadata": {},
   "outputs": [
    {
     "name": "stdout",
     "output_type": "stream",
     "text": [
      "<class 'pandas.core.frame.DataFrame'>\n",
      "RangeIndex: 284807 entries, 0 to 284806\n",
      "Data columns (total 32 columns):\n",
      "Unnamed: 0    284807 non-null int64\n",
      "Time          284807 non-null float64\n",
      "V1            284807 non-null float64\n",
      "V2            284807 non-null float64\n",
      "V3            284807 non-null float64\n",
      "V4            284807 non-null float64\n",
      "V5            284807 non-null float64\n",
      "V6            284807 non-null float64\n",
      "V7            284807 non-null float64\n",
      "V8            284807 non-null float64\n",
      "V9            284807 non-null float64\n",
      "V10           284807 non-null float64\n",
      "V11           284807 non-null float64\n",
      "V12           284807 non-null float64\n",
      "V13           284807 non-null float64\n",
      "V14           284807 non-null float64\n",
      "V15           284807 non-null float64\n",
      "V16           284807 non-null float64\n",
      "V17           284807 non-null float64\n",
      "V18           284807 non-null float64\n",
      "V19           284807 non-null float64\n",
      "V20           284807 non-null float64\n",
      "V21           284807 non-null float64\n",
      "V22           284807 non-null float64\n",
      "V23           284807 non-null float64\n",
      "V24           284807 non-null float64\n",
      "V25           284807 non-null float64\n",
      "V26           284807 non-null float64\n",
      "V27           284807 non-null float64\n",
      "V28           284807 non-null float64\n",
      "Amount        284807 non-null float64\n",
      "Class         284807 non-null int64\n",
      "dtypes: float64(30), int64(2)\n",
      "memory usage: 69.5 MB\n"
     ]
    }
   ],
   "source": [
    "credit.info()"
   ]
  },
  {
   "cell_type": "code",
   "execution_count": 40,
   "metadata": {},
   "outputs": [
    {
     "name": "stdout",
     "output_type": "stream",
     "text": [
      "['Time', 'V1', 'V2', 'V3', 'V4', 'V5', 'V6', 'V7', 'V8', 'V9', 'V10', 'V11', 'V12', 'V13', 'V14', 'V15', 'V16', 'V17', 'V18', 'V19', 'V20', 'V21', 'V22', 'V23', 'V24', 'V25', 'V26', 'V27', 'V28', 'Amount']\n"
     ]
    }
   ],
   "source": [
    "columns=list(credit.columns.values)\n",
    "columns.remove('Class')\n",
    "X=columns\n",
    "del X[0]\n",
    "y=['Class']\n",
    "print(X)"
   ]
  },
  {
   "cell_type": "code",
   "execution_count": 41,
   "metadata": {},
   "outputs": [
    {
     "name": "stderr",
     "output_type": "stream",
     "text": [
      "C:\\Users\\KHYATI GARG\\Anaconda3\\ana\\ani\\lib\\site-packages\\sklearn\\utils\\validation.py:578: DataConversionWarning: A column-vector y was passed when a 1d array was expected. Please change the shape of y to (n_samples, ), for example using ravel().\n",
      "  y = column_or_1d(y, warn=True)\n"
     ]
    }
   ],
   "source": [
    "from sklearn.datasets import make_classification\n",
    "from imblearn.over_sampling import SMOTE\n",
    "smote=SMOTE(random_state=42)\n",
    "data_X,data_y=smote.fit_sample(credit[X],credit[y])"
   ]
  },
  {
   "cell_type": "code",
   "execution_count": 42,
   "metadata": {},
   "outputs": [
    {
     "name": "stdout",
     "output_type": "stream",
     "text": [
      "<class 'pandas.core.frame.DataFrame'>\n",
      "RangeIndex: 568630 entries, 0 to 568629\n",
      "Data columns (total 30 columns):\n",
      "0     568630 non-null float64\n",
      "1     568630 non-null float64\n",
      "2     568630 non-null float64\n",
      "3     568630 non-null float64\n",
      "4     568630 non-null float64\n",
      "5     568630 non-null float64\n",
      "6     568630 non-null float64\n",
      "7     568630 non-null float64\n",
      "8     568630 non-null float64\n",
      "9     568630 non-null float64\n",
      "10    568630 non-null float64\n",
      "11    568630 non-null float64\n",
      "12    568630 non-null float64\n",
      "13    568630 non-null float64\n",
      "14    568630 non-null float64\n",
      "15    568630 non-null float64\n",
      "16    568630 non-null float64\n",
      "17    568630 non-null float64\n",
      "18    568630 non-null float64\n",
      "19    568630 non-null float64\n",
      "20    568630 non-null float64\n",
      "21    568630 non-null float64\n",
      "22    568630 non-null float64\n",
      "23    568630 non-null float64\n",
      "24    568630 non-null float64\n",
      "25    568630 non-null float64\n",
      "26    568630 non-null float64\n",
      "27    568630 non-null float64\n",
      "28    568630 non-null float64\n",
      "29    568630 non-null float64\n",
      "dtypes: float64(30)\n",
      "memory usage: 130.1 MB\n",
      "<class 'pandas.core.frame.DataFrame'>\n",
      "RangeIndex: 568630 entries, 0 to 568629\n",
      "Data columns (total 1 columns):\n",
      "0    568630 non-null int64\n",
      "dtypes: int64(1)\n",
      "memory usage: 4.3 MB\n"
     ]
    }
   ],
   "source": [
    "data_X=pd.DataFrame(data_X)\n",
    "data_X.info()\n",
    "data_y=pd.DataFrame(data_y)\n",
    "data_y.info()"
   ]
  },
  {
   "cell_type": "code",
   "execution_count": 43,
   "metadata": {},
   "outputs": [],
   "source": [
    "data_X.columns=['Time','V1','V2','V3','V4','V5','V6','V7','V8','V9','V10','V11','V12','V13','V14','V15','V16','V17','V18','V19','V20','V21','V22','V23','V24','V25','V26','V27','V28','Amount']"
   ]
  },
  {
   "cell_type": "code",
   "execution_count": 45,
   "metadata": {
    "collapsed": true
   },
   "outputs": [],
   "source": [
    "from sklearn.model_selection import train_test_split\n",
    "from sklearn.metrics import classification_report\n",
    "from sklearn.metrics import confusion_matrix\n",
    "from sklearn.metrics import roc_auc_score\n",
    "from sklearn.model_selection import cross_val_score\n",
    "train_X,test_X,train_y,test_y=train_test_split(data_X,data_y,test_size=0.3)"
   ]
  },
  {
   "cell_type": "code",
   "execution_count": 46,
   "metadata": {},
   "outputs": [
    {
     "name": "stderr",
     "output_type": "stream",
     "text": [
      "C:\\Users\\KHYATI GARG\\Anaconda3\\ana\\ani\\lib\\site-packages\\sklearn\\utils\\validation.py:578: DataConversionWarning: A column-vector y was passed when a 1d array was expected. Please change the shape of y to (n_samples, ), for example using ravel().\n",
      "  y = column_or_1d(y, warn=True)\n"
     ]
    },
    {
     "name": "stdout",
     "output_type": "stream",
     "text": [
      "0.947657820844\n",
      "[[83253  2082]\n",
      " [ 6847 78407]]\n",
      "             precision    recall  f1-score   support\n",
      "\n",
      "          0       0.92      0.98      0.95     85335\n",
      "          1       0.97      0.92      0.95     85254\n",
      "\n",
      "avg / total       0.95      0.95      0.95    170589\n",
      "\n"
     ]
    }
   ],
   "source": [
    "from sklearn.linear_model import LogisticRegression\n",
    "model=LogisticRegression()\n",
    "model.fit(train_X,train_y)\n",
    "pred=model.predict(test_X)\n",
    "print('using logistic regression roc_auc_score is:',roc_auc_score(test_y,pred))\n",
    "print(model.score(test_X,test_y))\n",
    "print(confusion_matrix(test_y,pred))\n",
    "print(classification_report(test_y,pred))"
   ]
  },
  {
   "cell_type": "code",
   "execution_count": 47,
   "metadata": {},
   "outputs": [
    {
     "name": "stdout",
     "output_type": "stream",
     "text": [
      "roc_auc_score is: 0.998065904026\n",
      "0.998065525913\n",
      "[[85102   233]\n",
      " [   97 85157]]\n",
      "             precision    recall  f1-score   support\n",
      "\n",
      "          0       1.00      1.00      1.00     85335\n",
      "          1       1.00      1.00      1.00     85254\n",
      "\n",
      "avg / total       1.00      1.00      1.00    170589\n",
      "\n"
     ]
    }
   ],
   "source": [
    "from sklearn.tree import DecisionTreeClassifier\n",
    "model=DecisionTreeClassifier()\n",
    "model.fit(train_X,train_y)\n",
    "pred=model.predict(test_X)\n",
    "print('using decision tree classifier roc_auc_score is:',roc_auc_score(test_y,pred))\n",
    "print(model.score(test_X,test_y))\n",
    "print(confusion_matrix(test_y,pred))\n",
    "print(classification_report(test_y,pred))"
   ]
  },
  {
   "cell_type": "code",
   "execution_count": 48,
   "metadata": {},
   "outputs": [
    {
     "name": "stderr",
     "output_type": "stream",
     "text": [
      "C:\\Users\\KHYATI GARG\\Anaconda3\\ana\\ani\\lib\\site-packages\\ipykernel_launcher.py:5: DataConversionWarning: A column-vector y was passed when a 1d array was expected. Please change the shape of y to (n_samples,), for example using ravel().\n",
      "  \"\"\"\n"
     ]
    },
    {
     "name": "stdout",
     "output_type": "stream",
     "text": [
      "using random forest roc_auc_score is: 0.999882814789\n",
      "0.999882759146\n",
      "[[85315    20]\n",
      " [    0 85254]]\n",
      "             precision    recall  f1-score   support\n",
      "\n",
      "          0       1.00      1.00      1.00     85335\n",
      "          1       1.00      1.00      1.00     85254\n",
      "\n",
      "avg / total       1.00      1.00      1.00    170589\n",
      "\n"
     ]
    }
   ],
   "source": [
    "from sklearn.ensemble import RandomForestClassifier\n",
    "import time\n",
    "#t1=time()\n",
    "model=RandomForestClassifier(n_estimators=13)\n",
    "model.fit(train_X,train_y)\n",
    "pred=model.predict(test_X)\n",
    "print('using random forest roc_auc_score is:',roc_auc_score(test_y,pred))\n",
    "print(model.score(test_X,test_y))\n",
    "print(confusion_matrix(test_y,pred))\n",
    "print(classification_report(test_y,pred))"
   ]
  },
  {
   "cell_type": "code",
   "execution_count": 49,
   "metadata": {
    "scrolled": true
   },
   "outputs": [
    {
     "name": "stderr",
     "output_type": "stream",
     "text": [
      "C:\\Users\\KHYATI GARG\\Anaconda3\\ana\\ani\\lib\\site-packages\\sklearn\\model_selection\\_validation.py:458: DataConversionWarning: A column-vector y was passed when a 1d array was expected. Please change the shape of y to (n_samples,), for example using ravel().\n",
      "  estimator.fit(X_train, y_train, **fit_params)\n",
      "C:\\Users\\KHYATI GARG\\Anaconda3\\ana\\ani\\lib\\site-packages\\sklearn\\model_selection\\_validation.py:458: DataConversionWarning: A column-vector y was passed when a 1d array was expected. Please change the shape of y to (n_samples,), for example using ravel().\n",
      "  estimator.fit(X_train, y_train, **fit_params)\n",
      "C:\\Users\\KHYATI GARG\\Anaconda3\\ana\\ani\\lib\\site-packages\\sklearn\\model_selection\\_validation.py:458: DataConversionWarning: A column-vector y was passed when a 1d array was expected. Please change the shape of y to (n_samples,), for example using ravel().\n",
      "  estimator.fit(X_train, y_train, **fit_params)\n",
      "C:\\Users\\KHYATI GARG\\Anaconda3\\ana\\ani\\lib\\site-packages\\sklearn\\model_selection\\_validation.py:458: DataConversionWarning: A column-vector y was passed when a 1d array was expected. Please change the shape of y to (n_samples,), for example using ravel().\n",
      "  estimator.fit(X_train, y_train, **fit_params)\n",
      "C:\\Users\\KHYATI GARG\\Anaconda3\\ana\\ani\\lib\\site-packages\\sklearn\\model_selection\\_validation.py:458: DataConversionWarning: A column-vector y was passed when a 1d array was expected. Please change the shape of y to (n_samples,), for example using ravel().\n",
      "  estimator.fit(X_train, y_train, **fit_params)\n"
     ]
    },
    {
     "name": "stdout",
     "output_type": "stream",
     "text": [
      "[ 0.99994724  1.          1.          1.          0.99991207]\n",
      "0.999971862195\n"
     ]
    }
   ],
   "source": [
    "from sklearn.ensemble import RandomForestClassifier\n",
    "import time\n",
    "#t1=time()\n",
    "model=RandomForestClassifier(n_estimators=12)\n",
    "rec=cross_val_score(model,data_X,data_y,cv=5,scoring='recall')\n",
    "print(rec)\n",
    "print(rec.mean())"
   ]
  },
  {
   "cell_type": "code",
   "execution_count": null,
   "metadata": {
    "collapsed": true
   },
   "outputs": [],
   "source": []
  }
 ],
 "metadata": {
  "kernelspec": {
   "display_name": "Python 3",
   "language": "python",
   "name": "python3"
  },
  "language_info": {
   "codemirror_mode": {
    "name": "ipython",
    "version": 3
   },
   "file_extension": ".py",
   "mimetype": "text/x-python",
   "name": "python",
   "nbconvert_exporter": "python",
   "pygments_lexer": "ipython3",
   "version": "3.6.3"
  }
 },
 "nbformat": 4,
 "nbformat_minor": 2
}
